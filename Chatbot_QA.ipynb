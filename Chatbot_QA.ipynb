{
  "cells": [
    {
      "cell_type": "code",
      "execution_count": 6,
      "metadata": {
        "id": "C_CXa1L7GCct"
      },
      "outputs": [],
      "source": [
        "from bs4 import BeautifulSoup\n",
        "import requests\n",
        "from transformers import pipeline\n",
        "\n",
        "import logging\n",
        "#suppress logging message\n",
        "logging.getLogger(\"transformers\").setLevel(logging.ERROR) \n",
        "\n",
        "# Function to fetch data from a given URL\n",
        "def fetch_data_from_url(url):\n",
        "     # Send a GET request to the URL\n",
        "    response = requests.get(url)\n",
        "    # Parse the response text with BeautifulSoup\n",
        "    soup = BeautifulSoup(response.text, 'html.parser')\n",
        "    # Return the extracted text\n",
        "    return soup.get_text()\n",
        "\n",
        "# Function to process the fetched data\n",
        "def process_data(text):\n",
        "    return text\n",
        "\n",
        "# Function to answer questions based on the processed data\n",
        "def answer_question(question, context):\n",
        "    # Initialize the question-answering pipeline\n",
        "    nlp = pipeline('question-answering')\n",
        "    # Use the pipeline to answer the question based on the context\n",
        "    answer = nlp(question=question, context=context)\n",
        "    return answer\n",
        "\n",
        "def chat_bot():\n",
        "    # Get user input for URL and question\n",
        "    url = input(\"Enter the URL: \")\n",
        "    question = input(\"Ask a question: \")\n",
        "\n",
        "     # Fetch data from the URL\n",
        "    raw_data = fetch_data_from_url(url)\n",
        "    # Process the fetched data\n",
        "    processed_data = process_data(raw_data)\n",
        "\n",
        "    # User's question based on the data\n",
        "    answer = answer_question(question, processed_data)\n",
        "\n",
        "    # Extract and print the answer\n",
        "    print(\"Answer:\", answer['answer'])"
      ]
    },
    {
      "cell_type": "code",
      "execution_count": 7,
      "metadata": {
        "colab": {
          "base_uri": "https://localhost:8080/"
        },
        "id": "5QIegjPSGTOS",
        "outputId": "66c6b4e7-d1bb-425e-c730-41a466928e20"
      },
      "outputs": [
        {
          "name": "stdout",
          "output_type": "stream",
          "text": [
            "Enter the URL: https://en.wikipedia.org/wiki/Alphabet_Inc.\n",
            "Ask a question: Who is the CEO of Alphabet Inc\n",
            "Answer: Sundar Pichai\n"
          ]
        }
      ],
      "source": [
        "chat_bot()"
      ]
    }
  ],
  "metadata": {
    "colab": {
      "provenance": []
    },
    "kernelspec": {
      "display_name": "Python 3",
      "name": "python3"
    },
    "language_info": {
      "name": "python"
    }
  },
  "nbformat": 4,
  "nbformat_minor": 0
}
